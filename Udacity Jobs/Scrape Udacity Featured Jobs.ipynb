{
 "cells": [
  {
   "cell_type": "markdown",
   "metadata": {},
   "source": [
    "## This is a practice to scarpe information from the website and save it in the local drive."
   ]
  },
  {
   "cell_type": "code",
   "execution_count": 16,
   "metadata": {},
   "outputs": [
    {
     "name": "stdout",
     "output_type": "stream",
     "text": [
      "Job Done. Yeah!\n",
      "All the information is saved！\n"
     ]
    }
   ],
   "source": [
    "import requests\n",
    "import csv\n",
    "from bs4 import BeautifulSoup\n",
    "\n",
    "def get_html(url):\n",
    "    '''\n",
    "    Scrape the web\n",
    "    '''   \n",
    "    try:\n",
    "        r = requests.get(url, timeout=30)\n",
    "        r.raise_for_status()\n",
    "        # if you are not sure about the encoding, you can use：\n",
    "        # r.endcodding = r.apparent_endconding\n",
    "        r.encoding = 'utf-8'\n",
    "        return r.text\n",
    "    except:\n",
    "        return \" ERROR \"\n",
    "\n",
    "\n",
    "def get_content(url):\n",
    "    '''\n",
    "    Retrieve the job information from the web\n",
    "    '''\n",
    "    # Intialize a list to store the job information\n",
    "    jobs = []\n",
    "    \n",
    "    # Create soup\n",
    "    html = get_html(url)\n",
    "    soup = BeautifulSoup(html, 'lxml')\n",
    "\n",
    "    # Find all the job information\n",
    "    jobcards = soup.findAll(\"div\", { \"class\" : 'job-card'}) \n",
    "\n",
    "    for job in jobcards:\n",
    "        # Intialize a dict to store the info of each job \n",
    "        row = {}\n",
    "        try:\n",
    "            row['title'] = job.find(\n",
    "                'a', attrs={'class': 'link'}).text.strip()\n",
    "            row['link'] = job.find('a', attrs={'class': 'link'})['href']\n",
    "            row['experience'] = job.find(\n",
    "                'div', attrs={'class': 'relevant-years'}).text.strip()\n",
    "            row['company'] = job.find(\n",
    "                'div', attrs={'class': 'company'}).text.strip()\n",
    "            row['location'] = job.find(\n",
    "                'div', attrs={'class': 'location'}).text.strip()\n",
    "            jobs.append(row)\n",
    "        except:\n",
    "            print('Something is wrong')\n",
    "    return jobs\n",
    "\n",
    "\n",
    "def Out2File(dict):\n",
    "    '''\n",
    "    Save the result\n",
    "    '''\n",
    "    with open('Udacity_Jobs.csv', 'w') as csvfile:\n",
    "        fieldnames = ['title', 'link','experience','company','location']\n",
    "        writer = csv.DictWriter(csvfile, fieldnames=fieldnames)\n",
    "        writer.writeheader()\n",
    "        for row in dict:\n",
    "            writer.writerow({'title':row['title'], 'link': row['link'], 'experience': row['experience'],\n",
    "                            'company':row['company'],'location':row['location']})\n",
    "\n",
    "        print('Job Done. Yeah!')\n",
    "\n",
    "\n",
    "def main(url):\n",
    "    content = get_content(url)\n",
    "    Out2File(content)\n",
    "    print('All the information is saved！')\n",
    "\n",
    "\n",
    "url = 'https://career-resource-center.udacity.com/featured-jobs'\n",
    "\n",
    "if __name__ == '__main__':\n",
    "    main(url)"
   ]
  },
  {
   "cell_type": "code",
   "execution_count": null,
   "metadata": {
    "collapsed": true
   },
   "outputs": [],
   "source": []
  }
 ],
 "metadata": {
  "kernelspec": {
   "display_name": "Python [default]",
   "language": "python",
   "name": "python3"
  },
  "language_info": {
   "codemirror_mode": {
    "name": "ipython",
    "version": 3
   },
   "file_extension": ".py",
   "mimetype": "text/x-python",
   "name": "python",
   "nbconvert_exporter": "python",
   "pygments_lexer": "ipython3",
   "version": "3.5.3"
  }
 },
 "nbformat": 4,
 "nbformat_minor": 2
}
