{
 "cells": [
  {
   "cell_type": "markdown",
   "metadata": {},
   "source": [
    "## This is a practice to scarpe information from the website and save it in the local drive."
   ]
  },
  {
   "cell_type": "code",
   "execution_count": 28,
   "metadata": {},
   "outputs": [
    {
     "name": "stdout",
     "output_type": "stream",
     "text": [
      "Job Done. Yeah!\n",
      "All the information is saved！\n"
     ]
    }
   ],
   "source": [
    "import requests\n",
    "import csv\n",
    "from bs4 import BeautifulSoup\n",
    "\n",
    "def get_html(url):\n",
    "    '''\n",
    "    Scrape the web\n",
    "    '''   \n",
    "    try:\n",
    "        r = requests.get(url, timeout=30)\n",
    "        r.raise_for_status()\n",
    "        # if you are not sure about the encoding, you can use：\n",
    "        # r.endcodding = r.apparent_endconding\n",
    "        r.encoding = 'utf-8'\n",
    "        return r.text\n",
    "    except:\n",
    "        return \" ERROR \"\n",
    "\n",
    "\n",
    "def get_content(url):\n",
    "    '''\n",
    "    Retrieve the job information from the web\n",
    "    '''\n",
    "    # Intialize a list to store the job information\n",
    "    results = []\n",
    "    for page in range(0,480,120):\n",
    "        url_page = url + str(page)\n",
    "        # Create soup\n",
    "        html = get_html(url_page)\n",
    "        soup = BeautifulSoup(html, 'lxml')\n",
    "\n",
    "        # Find all the apartment information\n",
    "        apts = soup.findAll(class_= 'result-row') \n",
    "\n",
    "        for apt in apts:\n",
    "            # Intialize a dict to store the info of each apt\n",
    "            row = {}\n",
    "            try:\n",
    "                row['time'] = apt.p.time.text.strip()\n",
    "                row['title'] = apt.p.a.text.strip()\n",
    "                row['link'] = apt.p.a['href'].strip()\n",
    "                results.append(row)\n",
    "            except:\n",
    "                print('Something is wrong')\n",
    "    return results\n",
    "\n",
    "\n",
    "def Out2File(dict):\n",
    "    '''\n",
    "    Save the result\n",
    "    '''\n",
    "    with open('apartments.csv', 'w') as csvfile:\n",
    "        fieldnames = ['time','title', 'link']\n",
    "        writer = csv.DictWriter(csvfile, fieldnames=fieldnames)\n",
    "        writer.writeheader()\n",
    "        for row in dict:\n",
    "            writer.writerow({'time': row['time'],'title':row['title'], 'link': row['link']})\n",
    "        print('Job Done. Yeah!')\n",
    "\n",
    "\n",
    "def main(url):\n",
    "    content = get_content(url)\n",
    "    Out2File(content)\n",
    "    #print(content)\n",
    "    print('All the information is saved！')\n",
    "\n",
    "\n",
    "url = 'https://houston.craigslist.org/search/apa?s='\n",
    "\n",
    "if __name__ == '__main__':\n",
    "    main(url)"
   ]
  },
  {
   "cell_type": "code",
   "execution_count": null,
   "metadata": {
    "collapsed": true
   },
   "outputs": [],
   "source": []
  }
 ],
 "metadata": {
  "kernelspec": {
   "display_name": "Python [default]",
   "language": "python",
   "name": "python3"
  },
  "language_info": {
   "codemirror_mode": {
    "name": "ipython",
    "version": 3
   },
   "file_extension": ".py",
   "mimetype": "text/x-python",
   "name": "python",
   "nbconvert_exporter": "python",
   "pygments_lexer": "ipython3",
   "version": "3.5.3"
  }
 },
 "nbformat": 4,
 "nbformat_minor": 2
}
